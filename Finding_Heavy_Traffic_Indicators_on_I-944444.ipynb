{
 "cells": [
  {
   "cell_type": "markdown",
   "id": "9d491f3e",
   "metadata": {},
   "source": [
    "# Finding Heavy Traffic Indicators on I-94\n",
    "\n",
    "In this project, we're going to analyze a dataset about the westbound traffic on the I-94 Interstate highway.\n",
    "\n",
    "The goal of our analysis is to determine a few indicators of heavy traffic on I-94. These indicators can be weather type, time of the day, time of the week, etc.\n"
   ]
  },
  {
   "cell_type": "code",
   "execution_count": 77,
   "id": "bc1df795",
   "metadata": {},
   "outputs": [
    {
     "data": {
      "text/html": [
       "<div>\n",
       "<style scoped>\n",
       "    .dataframe tbody tr th:only-of-type {\n",
       "        vertical-align: middle;\n",
       "    }\n",
       "\n",
       "    .dataframe tbody tr th {\n",
       "        vertical-align: top;\n",
       "    }\n",
       "\n",
       "    .dataframe thead th {\n",
       "        text-align: right;\n",
       "    }\n",
       "</style>\n",
       "<table border=\"1\" class=\"dataframe\">\n",
       "  <thead>\n",
       "    <tr style=\"text-align: right;\">\n",
       "      <th></th>\n",
       "      <th>holiday</th>\n",
       "      <th>temp</th>\n",
       "      <th>rain_1h</th>\n",
       "      <th>snow_1h</th>\n",
       "      <th>clouds_all</th>\n",
       "      <th>weather_main</th>\n",
       "      <th>weather_description</th>\n",
       "      <th>date_time</th>\n",
       "      <th>traffic_volume</th>\n",
       "    </tr>\n",
       "  </thead>\n",
       "  <tbody>\n",
       "    <tr>\n",
       "      <th>0</th>\n",
       "      <td>None</td>\n",
       "      <td>288.28</td>\n",
       "      <td>0.0</td>\n",
       "      <td>0.0</td>\n",
       "      <td>40</td>\n",
       "      <td>Clouds</td>\n",
       "      <td>scattered clouds</td>\n",
       "      <td>2012-10-02 09:00:00</td>\n",
       "      <td>5545</td>\n",
       "    </tr>\n",
       "    <tr>\n",
       "      <th>1</th>\n",
       "      <td>None</td>\n",
       "      <td>289.36</td>\n",
       "      <td>0.0</td>\n",
       "      <td>0.0</td>\n",
       "      <td>75</td>\n",
       "      <td>Clouds</td>\n",
       "      <td>broken clouds</td>\n",
       "      <td>2012-10-02 10:00:00</td>\n",
       "      <td>4516</td>\n",
       "    </tr>\n",
       "    <tr>\n",
       "      <th>2</th>\n",
       "      <td>None</td>\n",
       "      <td>289.58</td>\n",
       "      <td>0.0</td>\n",
       "      <td>0.0</td>\n",
       "      <td>90</td>\n",
       "      <td>Clouds</td>\n",
       "      <td>overcast clouds</td>\n",
       "      <td>2012-10-02 11:00:00</td>\n",
       "      <td>4767</td>\n",
       "    </tr>\n",
       "    <tr>\n",
       "      <th>3</th>\n",
       "      <td>None</td>\n",
       "      <td>290.13</td>\n",
       "      <td>0.0</td>\n",
       "      <td>0.0</td>\n",
       "      <td>90</td>\n",
       "      <td>Clouds</td>\n",
       "      <td>overcast clouds</td>\n",
       "      <td>2012-10-02 12:00:00</td>\n",
       "      <td>5026</td>\n",
       "    </tr>\n",
       "    <tr>\n",
       "      <th>4</th>\n",
       "      <td>None</td>\n",
       "      <td>291.14</td>\n",
       "      <td>0.0</td>\n",
       "      <td>0.0</td>\n",
       "      <td>75</td>\n",
       "      <td>Clouds</td>\n",
       "      <td>broken clouds</td>\n",
       "      <td>2012-10-02 13:00:00</td>\n",
       "      <td>4918</td>\n",
       "    </tr>\n",
       "  </tbody>\n",
       "</table>\n",
       "</div>"
      ],
      "text/plain": [
       "  holiday    temp  rain_1h  snow_1h  clouds_all weather_main  \\\n",
       "0    None  288.28      0.0      0.0          40       Clouds   \n",
       "1    None  289.36      0.0      0.0          75       Clouds   \n",
       "2    None  289.58      0.0      0.0          90       Clouds   \n",
       "3    None  290.13      0.0      0.0          90       Clouds   \n",
       "4    None  291.14      0.0      0.0          75       Clouds   \n",
       "\n",
       "  weather_description            date_time  traffic_volume  \n",
       "0    scattered clouds  2012-10-02 09:00:00            5545  \n",
       "1       broken clouds  2012-10-02 10:00:00            4516  \n",
       "2     overcast clouds  2012-10-02 11:00:00            4767  \n",
       "3     overcast clouds  2012-10-02 12:00:00            5026  \n",
       "4       broken clouds  2012-10-02 13:00:00            4918  "
      ]
     },
     "execution_count": 77,
     "metadata": {},
     "output_type": "execute_result"
    }
   ],
   "source": [
    "import pandas as pd\n",
    "indicator=pd.read_csv('Metro_Interstate_Traffic_Volume.csv')\n",
    "indicator.head()"
   ]
  },
  {
   "cell_type": "code",
   "execution_count": 78,
   "id": "1fa4a980",
   "metadata": {},
   "outputs": [
    {
     "data": {
      "text/html": [
       "<div>\n",
       "<style scoped>\n",
       "    .dataframe tbody tr th:only-of-type {\n",
       "        vertical-align: middle;\n",
       "    }\n",
       "\n",
       "    .dataframe tbody tr th {\n",
       "        vertical-align: top;\n",
       "    }\n",
       "\n",
       "    .dataframe thead th {\n",
       "        text-align: right;\n",
       "    }\n",
       "</style>\n",
       "<table border=\"1\" class=\"dataframe\">\n",
       "  <thead>\n",
       "    <tr style=\"text-align: right;\">\n",
       "      <th></th>\n",
       "      <th>holiday</th>\n",
       "      <th>temp</th>\n",
       "      <th>rain_1h</th>\n",
       "      <th>snow_1h</th>\n",
       "      <th>clouds_all</th>\n",
       "      <th>weather_main</th>\n",
       "      <th>weather_description</th>\n",
       "      <th>date_time</th>\n",
       "      <th>traffic_volume</th>\n",
       "    </tr>\n",
       "  </thead>\n",
       "  <tbody>\n",
       "    <tr>\n",
       "      <th>48199</th>\n",
       "      <td>None</td>\n",
       "      <td>283.45</td>\n",
       "      <td>0.0</td>\n",
       "      <td>0.0</td>\n",
       "      <td>75</td>\n",
       "      <td>Clouds</td>\n",
       "      <td>broken clouds</td>\n",
       "      <td>2018-09-30 19:00:00</td>\n",
       "      <td>3543</td>\n",
       "    </tr>\n",
       "    <tr>\n",
       "      <th>48200</th>\n",
       "      <td>None</td>\n",
       "      <td>282.76</td>\n",
       "      <td>0.0</td>\n",
       "      <td>0.0</td>\n",
       "      <td>90</td>\n",
       "      <td>Clouds</td>\n",
       "      <td>overcast clouds</td>\n",
       "      <td>2018-09-30 20:00:00</td>\n",
       "      <td>2781</td>\n",
       "    </tr>\n",
       "    <tr>\n",
       "      <th>48201</th>\n",
       "      <td>None</td>\n",
       "      <td>282.73</td>\n",
       "      <td>0.0</td>\n",
       "      <td>0.0</td>\n",
       "      <td>90</td>\n",
       "      <td>Thunderstorm</td>\n",
       "      <td>proximity thunderstorm</td>\n",
       "      <td>2018-09-30 21:00:00</td>\n",
       "      <td>2159</td>\n",
       "    </tr>\n",
       "    <tr>\n",
       "      <th>48202</th>\n",
       "      <td>None</td>\n",
       "      <td>282.09</td>\n",
       "      <td>0.0</td>\n",
       "      <td>0.0</td>\n",
       "      <td>90</td>\n",
       "      <td>Clouds</td>\n",
       "      <td>overcast clouds</td>\n",
       "      <td>2018-09-30 22:00:00</td>\n",
       "      <td>1450</td>\n",
       "    </tr>\n",
       "    <tr>\n",
       "      <th>48203</th>\n",
       "      <td>None</td>\n",
       "      <td>282.12</td>\n",
       "      <td>0.0</td>\n",
       "      <td>0.0</td>\n",
       "      <td>90</td>\n",
       "      <td>Clouds</td>\n",
       "      <td>overcast clouds</td>\n",
       "      <td>2018-09-30 23:00:00</td>\n",
       "      <td>954</td>\n",
       "    </tr>\n",
       "  </tbody>\n",
       "</table>\n",
       "</div>"
      ],
      "text/plain": [
       "      holiday    temp  rain_1h  snow_1h  clouds_all  weather_main  \\\n",
       "48199    None  283.45      0.0      0.0          75        Clouds   \n",
       "48200    None  282.76      0.0      0.0          90        Clouds   \n",
       "48201    None  282.73      0.0      0.0          90  Thunderstorm   \n",
       "48202    None  282.09      0.0      0.0          90        Clouds   \n",
       "48203    None  282.12      0.0      0.0          90        Clouds   \n",
       "\n",
       "          weather_description            date_time  traffic_volume  \n",
       "48199           broken clouds  2018-09-30 19:00:00            3543  \n",
       "48200         overcast clouds  2018-09-30 20:00:00            2781  \n",
       "48201  proximity thunderstorm  2018-09-30 21:00:00            2159  \n",
       "48202         overcast clouds  2018-09-30 22:00:00            1450  \n",
       "48203         overcast clouds  2018-09-30 23:00:00             954  "
      ]
     },
     "execution_count": 78,
     "metadata": {},
     "output_type": "execute_result"
    }
   ],
   "source": [
    "indicator.tail()"
   ]
  },
  {
   "cell_type": "code",
   "execution_count": 79,
   "id": "89f78115",
   "metadata": {},
   "outputs": [
    {
     "name": "stdout",
     "output_type": "stream",
     "text": [
      "<class 'pandas.core.frame.DataFrame'>\n",
      "RangeIndex: 48204 entries, 0 to 48203\n",
      "Data columns (total 9 columns):\n",
      " #   Column               Non-Null Count  Dtype  \n",
      "---  ------               --------------  -----  \n",
      " 0   holiday              48204 non-null  object \n",
      " 1   temp                 48204 non-null  float64\n",
      " 2   rain_1h              48204 non-null  float64\n",
      " 3   snow_1h              48204 non-null  float64\n",
      " 4   clouds_all           48204 non-null  int64  \n",
      " 5   weather_main         48204 non-null  object \n",
      " 6   weather_description  48204 non-null  object \n",
      " 7   date_time            48204 non-null  object \n",
      " 8   traffic_volume       48204 non-null  int64  \n",
      "dtypes: float64(3), int64(2), object(4)\n",
      "memory usage: 3.3+ MB\n"
     ]
    }
   ],
   "source": [
    "indicator.info()"
   ]
  },
  {
   "cell_type": "code",
   "execution_count": 80,
   "id": "c3cf72e1",
   "metadata": {},
   "outputs": [
    {
     "data": {
      "image/png": "[encoded data removed]",
      "text/plain": [
       "<Figure size 432x288 with 1 Axes>"
      ]
     },
     "metadata": {
      "needs_background": "light"
     },
     "output_type": "display_data"
    }
   ],
   "source": [
    "import matplotlib.pyplot as plt\n",
    "%matplotlib inline\n",
    "\n",
    "plt.hist(indicator['traffic_volume'])\n",
    "plt.show()"
   ]
  },
  {
   "cell_type": "code",
   "execution_count": 81,
   "id": "07a6e438",
   "metadata": {},
   "outputs": [
    {
     "data": {
      "text/plain": [
       "count    48204.000000\n",
       "mean      3259.818355\n",
       "std       1986.860670\n",
       "min          0.000000\n",
       "25%       1193.000000\n",
       "50%       3380.000000\n",
       "75%       4933.000000\n",
       "max       7280.000000\n",
       "Name: traffic_volume, dtype: float64"
      ]
     },
     "execution_count": 81,
     "metadata": {},
     "output_type": "execute_result"
    }
   ],
   "source": [
    "indicator['traffic_volume'].describe()"
   ]
  },
  {
   "cell_type": "markdown",
   "id": "9cd663a3",
   "metadata": {},
   "source": [
    "### Look over the possibility that nighttime and daytime might influence traffic volume\n",
    "\n",
    "- daytime: 7hours from 7 AM to 7 PM (12 hours)\n",
    "- Nighttime: hours from 7 PM to 7 AM (12 hours)"
   ]
  },
  {
   "cell_type": "code",
   "execution_count": 82,
   "id": "9ccdd4fd",
   "metadata": {},
   "outputs": [
    {
     "name": "stdout",
     "output_type": "stream",
     "text": [
      "0     9\n",
      "1    10\n",
      "2    11\n",
      "3    12\n",
      "4    13\n",
      "Name: date_time, dtype: int64\n"
     ]
    }
   ],
   "source": [
    "indicator['date_time']=pd.to_datetime(indicator['date_time'])\n",
    "hr=indicator['date_time'].dt.hour\n",
    "print(hr.head())"
   ]
  },
  {
   "cell_type": "code",
   "execution_count": 83,
   "id": "06855a6b",
   "metadata": {},
   "outputs": [
    {
     "name": "stdout",
     "output_type": "stream",
     "text": [
      "(23877, 9)\n",
      "(24327, 9)\n"
     ]
    }
   ],
   "source": [
    "daytime=indicator.copy()[(hr<19) & (hr>=7)]\n",
    "print(daytime.shape)\n",
    "\n",
    "nighttime=indicator.copy()[(hr>=19) | (hr<7)]\n",
    "print(nighttime.shape)"
   ]
  },
  {
   "cell_type": "code",
   "execution_count": 84,
   "id": "fb5a1924",
   "metadata": {},
   "outputs": [
    {
     "data": {
      "image/png": "[encoded data removed]",
      "text/plain": [
       "<Figure size 936x288 with 2 Axes>"
      ]
     },
     "metadata": {
      "needs_background": "light"
     },
     "output_type": "display_data"
    }
   ],
   "source": [
    "plt.figure(figsize=(13, 4))\n",
    "plt.subplot(1, 2, 1)\n",
    "plt.hist(daytime['traffic_volume'])\n",
    "plt.title('Daytime')\n",
    "plt.ylabel('Frequency')\n",
    "plt.xlabel('Traffic Volume')\n",
    "plt.xlim([0, 7000])\n",
    "\n",
    "plt.subplot(1, 2, 2)\n",
    "plt.hist(nighttime['traffic_volume'])\n",
    "plt.title('Nighttime')\n",
    "plt.ylabel('Frequency')\n",
    "plt.xlabel('Traffic Volume')\n",
    "plt.ylim([0, 8000])\n",
    "plt.xlim([0, 7000])\n",
    "plt.show()"
   ]
  },
  {
   "cell_type": "code",
   "execution_count": 85,
   "id": "00b6227f",
   "metadata": {},
   "outputs": [
    {
     "name": "stdout",
     "output_type": "stream",
     "text": [
      "count    23877.000000\n",
      "mean      4762.047452\n",
      "std       1174.546482\n",
      "min          0.000000\n",
      "25%       4252.000000\n",
      "50%       4820.000000\n",
      "75%       5559.000000\n",
      "max       7280.000000\n",
      "Name: traffic_volume, dtype: float64\n",
      "\n",
      "\n",
      "count    24327.000000\n",
      "mean      1785.377441\n",
      "std       1441.951197\n",
      "min          0.000000\n",
      "25%        530.000000\n",
      "50%       1287.000000\n",
      "75%       2819.000000\n",
      "max       6386.000000\n",
      "Name: traffic_volume, dtype: float64\n"
     ]
    }
   ],
   "source": [
    "print(daytime['traffic_volume'].describe())\n",
    "print('\\n')\n",
    "print(nighttime['traffic_volume'].describe())"
   ]
  },
  {
   "cell_type": "markdown",
   "id": "6236380a",
   "metadata": {},
   "source": [
    "---\n",
    "> The histogram that shows the distribution of traffic volume during the day is left skewed. This means that most of the traffic volume values are high — there are 4,252 or more cars passing the station each hour 75% of the time (because 25% of values are less than 4,252).\n",
    "\n",
    "> The histogram displaying the nighttime data is right skewed. This means that most of the traffic volume values are low — 75% of the time, the number of cars that passed the station each hour was less than 2,819.\n",
    "\n",
    "> Although there are still measurements of over 5,000 cars per hour, the traffic at night is generally light. Our goal is to find indicators of heavy traffic, so we'll only focus on the daytime data moving forward.\n",
    "---"
   ]
  },
  {
   "cell_type": "markdown",
   "id": "72adf576",
   "metadata": {},
   "source": [
    "### Look over time Indicators\n",
    "\n",
    "One of the possible indicators of heavy traffic is time. There might be more people on the road in a certain month, on a certain day, or at a certain time of day.\n",
    "\n",
    "We're going to look at a few line plots showing how the traffic volume changes according to the following:\n",
    "\n",
    "- Month\n",
    "- Day of the week\n",
    "- Time of day"
   ]
  },
  {
   "cell_type": "code",
   "execution_count": 86,
   "id": "02b302aa",
   "metadata": {},
   "outputs": [
    {
     "data": {
      "text/plain": [
       "month\n",
       "1     4495.613727\n",
       "2     4711.198394\n",
       "3     4889.409560\n",
       "4     4906.894305\n",
       "5     4911.121609\n",
       "6     4898.019566\n",
       "7     4595.035744\n",
       "8     4928.302035\n",
       "9     4870.783145\n",
       "10    4921.234922\n",
       "11    4704.094319\n",
       "12    4374.834566\n",
       "Name: traffic_volume, dtype: float64"
      ]
     },
     "execution_count": 86,
     "metadata": {},
     "output_type": "execute_result"
    }
   ],
   "source": [
    "daytime['month'] = daytime['date_time'].dt.month\n",
    "monthh = daytime.groupby('month').mean()\n",
    "monthh['traffic_volume']"
   ]
  },
  {
   "cell_type": "code",
   "execution_count": 87,
   "id": "6656f844",
   "metadata": {},
   "outputs": [
    {
     "data": {
      "image/png": "[encoded data removed]",
      "text/plain": [
       "<Figure size 432x288 with 1 Axes>"
      ]
     },
     "metadata": {
      "needs_background": "light"
     },
     "output_type": "display_data"
    }
   ],
   "source": [
    "monthh['traffic_volume'].plot.line()\n",
    "plt.show()"
   ]
  },
  {
   "cell_type": "markdown",
   "id": "3aed3069",
   "metadata": {},
   "source": [
    "> The traffic looks less heavy during cold months (November–February) and more intense during warm months (March–October), with one interesting exception: July."
   ]
  },
  {
   "cell_type": "code",
   "execution_count": 88,
   "id": "2dfe005a",
   "metadata": {},
   "outputs": [
    {
     "data": {
      "text/plain": [
       "dayofweek\n",
       "0    4893.551286\n",
       "1    5189.004782\n",
       "2    5284.454282\n",
       "3    5311.303730\n",
       "4    5291.600829\n",
       "5    3927.249558\n",
       "6    3436.541789\n",
       "Name: traffic_volume, dtype: float64"
      ]
     },
     "execution_count": 88,
     "metadata": {},
     "output_type": "execute_result"
    }
   ],
   "source": [
    "daytime['dayofweek'] = daytime['date_time'].dt.dayofweek\n",
    "dayofweek = daytime.groupby('dayofweek').mean()\n",
    "dayofweek['traffic_volume']  # 0 is Monday, 6 is Sunday"
   ]
  },
  {
   "cell_type": "code",
   "execution_count": 89,
   "id": "d84b28a3",
   "metadata": {},
   "outputs": [
    {
     "data": {
      "image/png": "[encoded data removed]",
      "text/plain": [
       "<Figure size 432x288 with 1 Axes>"
      ]
     },
     "metadata": {
      "needs_background": "light"
     },
     "output_type": "display_data"
    }
   ],
   "source": [
    "dayofweek['traffic_volume'].plot.line()\n",
    "plt.show()"
   ]
  },
  {
   "cell_type": "markdown",
   "id": "51238cc3",
   "metadata": {},
   "source": [
    "> Traffic volume is significantly heavier on business days (Monday – Friday). Except for Monday, we only see values over 5,000 during business days. Traffic is lighter on weekends, with values below 4,000 cars."
   ]
  },
  {
   "cell_type": "code",
   "execution_count": 90,
   "id": "2c4cc38c",
   "metadata": {},
   "outputs": [
    {
     "name": "stdout",
     "output_type": "stream",
     "text": [
      "hour\n",
      "7     6030.413559\n",
      "8     5503.497970\n",
      "9     4895.269257\n",
      "10    4378.419118\n",
      "11    4633.419470\n",
      "12    4855.382143\n",
      "13    4859.180473\n",
      "14    5152.995778\n",
      "15    5592.897768\n",
      "16    6189.473647\n",
      "17    5784.827133\n",
      "18    4434.209431\n",
      "Name: traffic_volume, dtype: float64\n",
      "\n",
      "\n",
      "hour\n",
      "7     1589.365894\n",
      "8     2338.578073\n",
      "9     3111.623917\n",
      "10    3686.632302\n",
      "11    4044.154955\n",
      "12    4372.482883\n",
      "13    4362.296564\n",
      "14    4358.543796\n",
      "15    4342.456881\n",
      "16    4339.693805\n",
      "17    4151.919929\n",
      "18    3811.792279\n",
      "Name: traffic_volume, dtype: float64\n"
     ]
    }
   ],
   "source": [
    "daytime['hour'] = daytime['date_time'].dt.hour\n",
    "bussiness_days = daytime.copy()[daytime['dayofweek'] <= 4] # 4 == Friday\n",
    "weekend = daytime.copy()[daytime['dayofweek'] >= 5] # 5 == Saturday\n",
    "by_hour_business = bussiness_days.groupby('hour').mean()\n",
    "by_hour_weekend = weekend.groupby('hour').mean()\n",
    "\n",
    "print(by_hour_business['traffic_volume'])\n",
    "print('\\n')\n",
    "print(by_hour_weekend['traffic_volume'])"
   ]
  },
  {
   "cell_type": "code",
   "execution_count": 91,
   "id": "67302646",
   "metadata": {},
   "outputs": [
    {
     "data": {
      "image/png": "[encoded data removed]",
      "text/plain": [
       "<Figure size 936x288 with 2 Axes>"
      ]
     },
     "metadata": {
      "needs_background": "light"
     },
     "output_type": "display_data"
    }
   ],
   "source": [
    "plt.figure(figsize=(13, 4))\n",
    "plt.subplot(1, 2, 1)\n",
    "by_hour_business['traffic_volume'].plot.line()\n",
    "plt.title('Every Hour in Business Days')\n",
    "plt.ylim([0, 6500])\n",
    "plt.ylabel('Traffic Volume')\n",
    "\n",
    "plt.subplot(1, 2, 2)\n",
    "by_hour_weekend['traffic_volume'].plot.line()\n",
    "plt.title('Every Hour on Weekend')\n",
    "plt.ylim([0, 6500])\n",
    "plt.ylabel('Traffic Volume')\n",
    "plt.show()"
   ]
  },
  {
   "cell_type": "markdown",
   "id": "89d3f665",
   "metadata": {},
   "source": [
    "---\n",
    "> At each hour of the day, the traffic volume is generally higher during business days compared to the weekends. As somehow expected, the rush hours are around 7 and 16 — when most people travel from home to work and back. We see volumes of over 6,000 cars at rush hours.\n",
    "\n",
    "> To summarize, we found a few time-related indicators of heavy traffic:\n",
    "(1)The traffic is usually heavier during warm months (March–October) compared to cold months (November–February).\n",
    "(2)The traffic is usually heavier on business days compared to weekends.\n",
    "(3)On business days, the rush hours are around 7 and 16.\n",
    "\n",
    "---\n"
   ]
  },
  {
   "cell_type": "markdown",
   "id": "e72ea2a2",
   "metadata": {},
   "source": [
    "### Wheather Indicators\n",
    "\n",
    "Another possible indicator of heavy traffic is weather. The dataset provides us with a few useful columns about weather: temp, rain_1h, snow_1h, clouds_all, weather_main, weather_description.\n",
    "\n",
    "A few of these columns are numerical, so let's start by looking up their correlation values with traffic_volume."
   ]
  },
  {
   "cell_type": "code",
   "execution_count": 92,
   "id": "cf00389a",
   "metadata": {},
   "outputs": [
    {
     "data": {
      "text/html": [
       "<div>\n",
       "<style scoped>\n",
       "    .dataframe tbody tr th:only-of-type {\n",
       "        vertical-align: middle;\n",
       "    }\n",
       "\n",
       "    .dataframe tbody tr th {\n",
       "        vertical-align: top;\n",
       "    }\n",
       "\n",
       "    .dataframe thead th {\n",
       "        text-align: right;\n",
       "    }\n",
       "</style>\n",
       "<table border=\"1\" class=\"dataframe\">\n",
       "  <thead>\n",
       "    <tr style=\"text-align: right;\">\n",
       "      <th></th>\n",
       "      <th>traffic_volume</th>\n",
       "    </tr>\n",
       "  </thead>\n",
       "  <tbody>\n",
       "    <tr>\n",
       "      <th>temp</th>\n",
       "      <td>0.128317</td>\n",
       "    </tr>\n",
       "    <tr>\n",
       "      <th>rain_1h</th>\n",
       "      <td>0.003697</td>\n",
       "    </tr>\n",
       "    <tr>\n",
       "      <th>snow_1h</th>\n",
       "      <td>0.001265</td>\n",
       "    </tr>\n",
       "    <tr>\n",
       "      <th>clouds_all</th>\n",
       "      <td>-0.032932</td>\n",
       "    </tr>\n",
       "    <tr>\n",
       "      <th>traffic_volume</th>\n",
       "      <td>1.000000</td>\n",
       "    </tr>\n",
       "    <tr>\n",
       "      <th>month</th>\n",
       "      <td>-0.022337</td>\n",
       "    </tr>\n",
       "    <tr>\n",
       "      <th>dayofweek</th>\n",
       "      <td>-0.416453</td>\n",
       "    </tr>\n",
       "    <tr>\n",
       "      <th>hour</th>\n",
       "      <td>0.172704</td>\n",
       "    </tr>\n",
       "  </tbody>\n",
       "</table>\n",
       "</div>"
      ],
      "text/plain": [
       "                traffic_volume\n",
       "temp                  0.128317\n",
       "rain_1h               0.003697\n",
       "snow_1h               0.001265\n",
       "clouds_all           -0.032932\n",
       "traffic_volume        1.000000\n",
       "month                -0.022337\n",
       "dayofweek            -0.416453\n",
       "hour                  0.172704"
      ]
     },
     "execution_count": 92,
     "metadata": {},
     "output_type": "execute_result"
    }
   ],
   "source": [
    "daytime.corr()[['traffic_volume']]"
   ]
  },
  {
   "cell_type": "code",
   "execution_count": 93,
   "id": "dbee2103",
   "metadata": {},
   "outputs": [
    {
     "data": {
      "image/png": "[encoded data removed]",
      "text/plain": [
       "<Figure size 432x288 with 1 Axes>"
      ]
     },
     "metadata": {
      "needs_background": "light"
     },
     "output_type": "display_data"
    }
   ],
   "source": [
    "plt.scatter(x=daytime['traffic_volume'], y=daytime['temp'])\n",
    "plt.show()"
   ]
  },
  {
   "cell_type": "markdown",
   "id": "103a4be7",
   "metadata": {},
   "source": [
    "> We can conclude that temperature doesn't look like a solid indicator of heavy traffic.\n",
    "\n",
    "> Let's now look at the other weather-related columns: weather_main and weather_description."
   ]
  },
  {
   "cell_type": "code",
   "execution_count": 94,
   "id": "852d6711",
   "metadata": {},
   "outputs": [
    {
     "data": {
      "image/png": "[encoded data removed]",
      "text/plain": [
       "<Figure size 432x288 with 1 Axes>"
      ]
     },
     "metadata": {
      "needs_background": "light"
     },
     "output_type": "display_data"
    }
   ],
   "source": [
    "by_weather_main = daytime.groupby('weather_main').mean()\n",
    "by_weather_main['traffic_volume'].plot.barh()\n",
    "plt.title('Weather Main')\n",
    "plt.show()"
   ]
  },
  {
   "cell_type": "code",
   "execution_count": 95,
   "id": "7b310dd7",
   "metadata": {},
   "outputs": [
    {
     "data": {
      "image/png": "[encoded data removed]",
      "text/plain": [
       "<Figure size 360x720 with 1 Axes>"
      ]
     },
     "metadata": {
      "needs_background": "light"
     },
     "output_type": "display_data"
    }
   ],
   "source": [
    "by_weather_description = daytime.groupby('weather_description').mean()\n",
    "by_weather_description['traffic_volume'].plot.barh(figsize=(5,10))\n",
    "plt.title('Weather Description')\n",
    "plt.show()"
   ]
  },
  {
   "cell_type": "markdown",
   "id": "faa07c5d",
   "metadata": {},
   "source": [
    "---\n",
    "> It looks like there are three weather types where traffic volume exceeds 5,000: (1)Shower snow (2)Light rain and snow (3)Proximity thunderstorm with drizzle\n",
    "\n",
    "> It's not clear why these weather types have the highest average traffic values — this is bad weather, but not that bad. Perhaps more people take their cars out of the garage when the weather is bad instead of riding a bike or walking.\n",
    "---"
   ]
  },
  {
   "cell_type": "markdown",
   "id": "5b62b8b5",
   "metadata": {},
   "source": [
    "## Conclusion\n",
    "\n",
    "In this project, we tried to find a few indicators of heavy traffic on the I-94 Interstate highway. We managed to find two types of indicators:\n",
    "\n",
    "- Time indicators\n",
    "    - The traffic is usually heavier during warm months (March–October) compared to cold months (November–February).\n",
    "    - The traffic is usually heavier on business days compared to the weekends.\n",
    "    - On business days, the rush hours are around 7 and 16.\n",
    "- Weather indicators\n",
    "    - Shower snow\n",
    "    - Light rain and snow\n",
    "    - Proximity thunderstorm with drizzle"
   ]
  },
  {
   "cell_type": "code",
   "execution_count": null,
   "id": "b31f80b2",
   "metadata": {},
   "outputs": [],
   "source": []
  }
 ],
 "metadata": {
  "kernelspec": {
   "display_name": "Python 3",
   "language": "python",
   "name": "python3"
  },
  "language_info": {
   "codemirror_mode": {
    "name": "ipython",
    "version": 3
   },
   "file_extension": ".py",
   "mimetype": "text/x-python",
   "name": "python",
   "nbconvert_exporter": "python",
   "pygments_lexer": "ipython3",
   "version": "3.8.8"
  }
 },
 "nbformat": 4,
 "nbformat_minor": 5
}
